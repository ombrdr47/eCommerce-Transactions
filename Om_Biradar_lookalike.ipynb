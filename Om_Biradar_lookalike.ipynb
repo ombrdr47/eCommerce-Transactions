{
 "cells": [
  {
   "cell_type": "code",
   "execution_count": 1,
   "metadata": {},
   "outputs": [],
   "source": [
    "\n",
    "import pandas as pd\n",
    "import numpy as np\n",
    "from sklearn.neighbors import NearestNeighbors\n",
    "from sklearn.preprocessing import StandardScaler, OneHotEncoder\n",
    "from sklearn.compose import ColumnTransformer\n",
    "from sklearn.pipeline import Pipeline\n",
    "from sklearn.metrics.pairwise import cosine_similarity\n",
    "import joblib"
   ]
  },
  {
   "cell_type": "markdown",
   "metadata": {},
   "source": [
    "# 1. Data Preparation"
   ]
  },
  {
   "cell_type": "code",
   "execution_count": 2,
   "metadata": {},
   "outputs": [],
   "source": [
    "# Load preprocessed data from Task 1\n",
    "customers = pd.read_csv('Customers.csv', parse_dates=['SignupDate'])\n",
    "transactions = pd.read_csv('Transactions.csv')\n",
    "products = pd.read_csv('Products.csv')\n",
    "\n",
    "# Merge datasets\n",
    "merged_data = (\n",
    "    transactions.merge(customers, on='CustomerID')\n",
    "    .merge(products, on='ProductID')\n",
    ")"
   ]
  },
  {
   "cell_type": "markdown",
   "metadata": {},
   "source": [
    "# 2. Feature Engineering"
   ]
  },
  {
   "cell_type": "code",
   "execution_count": 3,
   "metadata": {},
   "outputs": [],
   "source": [
    "# ----------------------\n",
    "# ----------------------\n",
    "\n",
    "def create_customer_features(df):\n",
    "    \"\"\"Create comprehensive customer features\"\"\"\n",
    "    \n",
    "    # Demographic Features\n",
    "    demo_features = df[['CustomerID', 'Region', 'SignupDate']].drop_duplicates()\n",
    "    \n",
    "    # Transaction Behavioral Features\n",
    "    txn_features = df.groupby('CustomerID').agg(\n",
    "        total_spend=('TotalValue', 'sum'),\n",
    "        purchase_freq=('TransactionID', 'count'),\n",
    "        avg_basket_size=('Quantity', 'mean'),\n",
    "        last_purchase_date=('TransactionDate', 'max')\n",
    "    ).reset_index()\n",
    "    \n",
    "    # Product Preference Features\n",
    "    product_prefs = (\n",
    "        df.groupby(['CustomerID', 'Category'])\n",
    "        .size().unstack(fill_value=0)\n",
    "        .add_prefix('category_')\n",
    "    )\n",
    "    \n",
    "    # Combine all features\n",
    "    features = (\n",
    "        demo_features.merge(txn_features, on='CustomerID')\n",
    "        .merge(product_prefs, on='CustomerID')\n",
    "    )\n",
    "    \n",
    "    # Add tenure feature\n",
    "    features['tenure'] = (pd.to_datetime('today') - features['SignupDate']).dt.days\n",
    "    \n",
    "    return features\n",
    "\n",
    "customer_features = create_customer_features(merged_data)"
   ]
  },
  {
   "cell_type": "code",
   "execution_count": 4,
   "metadata": {},
   "outputs": [],
   "source": [
    "# ----------------------\n",
    "# 3. Feature Preprocessing\n",
    "# ----------------------\n",
    "\n",
    "# Define preprocessing pipeline\n",
    "preprocessor = ColumnTransformer(\n",
    "    transformers=[\n",
    "        ('num', StandardScaler(), ['tenure', 'total_spend', 'purchase_freq', 'avg_basket_size']),\n",
    "        ('cat', OneHotEncoder(handle_unknown='ignore'), ['Region'])\n",
    "    ],\n",
    "    remainder='drop'\n",
    ")\n",
    "\n",
    "# Fit and transform data\n",
    "processed_features = preprocessor.fit_transform(customer_features)"
   ]
  },
  {
   "cell_type": "markdown",
   "metadata": {},
   "source": [
    "# 4. Similarity Model\n"
   ]
  },
  {
   "cell_type": "code",
   "execution_count": 5,
   "metadata": {},
   "outputs": [],
   "source": [
    "\n",
    "class LookalikeModel:\n",
    "    def __init__(self, n_neighbors=5, metric='cosine'):\n",
    "        self.model = NearestNeighbors(n_neighbors=n_neighbors+1, metric=metric)\n",
    "        self.customer_ids = None\n",
    "        \n",
    "    def fit(self, features, customer_ids):\n",
    "        self.model.fit(features)\n",
    "        self.customer_ids = customer_ids\n",
    "        \n",
    "    def find_similar(self, query_index, n_recommend=3):\n",
    "        distances, indices = self.model.kneighbors(\n",
    "            processed_features[query_index:query_index+1]\n",
    "        )\n",
    "        \n",
    "        # Exclude self\n",
    "        similar_indices = indices[0][1:n_recommend+1]\n",
    "        similar_scores = 1 / (1 + distances[0][1:n_recommend+1])  # Convert distance to similarity\n",
    "        \n",
    "        return list(zip(self.customer_ids[similar_indices], similar_scores))\n",
    "    \n",
    "    def batch_predict(self, target_ids, n_recommend=3):\n",
    "        results = {}\n",
    "        for cust_id in target_ids:\n",
    "            idx = np.where(self.customer_ids == cust_id)[0][0]\n",
    "            results[cust_id] = self.find_similar(idx, n_recommend)\n",
    "        return results"
   ]
  },
  {
   "cell_type": "markdown",
   "metadata": {},
   "source": [
    "# 5. Model Training"
   ]
  },
  {
   "cell_type": "code",
   "execution_count": 6,
   "metadata": {},
   "outputs": [],
   "source": [
    "# Initialize and train model\n",
    "lookalike_model = LookalikeModel(n_neighbors=100)\n",
    "lookalike_model.fit(processed_features, customer_features['CustomerID'].values)"
   ]
  },
  {
   "cell_type": "markdown",
   "metadata": {},
   "source": [
    "# 6. Generate Recommendations\n"
   ]
  },
  {
   "cell_type": "code",
   "execution_count": 7,
   "metadata": {},
   "outputs": [],
   "source": [
    "# Get target customers\n",
    "target_customers = [f'C{str(i+1).zfill(4)}' for i in range(20)]\n",
    "\n",
    "# Generate recommendations\n",
    "recommendations = lookalike_model.batch_predict(target_customers)\n"
   ]
  },
  {
   "cell_type": "markdown",
   "metadata": {},
   "source": [
    "# 7. Output Formatting\n"
   ]
  },
  {
   "cell_type": "code",
   "execution_count": 13,
   "metadata": {},
   "outputs": [],
   "source": [
    "def format_recommendations(recommendations):\n",
    "    formatted = []\n",
    "    for cust_id, matches in recommendations.items():\n",
    "        record = {\n",
    "            'CustomerID': cust_id,\n",
    "            'Lookalike1': matches[0][0],\n",
    "            'Score1': round(matches[0][1], 4),\n",
    "            'Lookalike2': matches[1][0],\n",
    "            'Score2': round(matches[1][1], 4),\n",
    "            'Lookalike3': matches[2][0],\n",
    "            'Score3': round(matches[2][1], 4)\n",
    "        }\n",
    "        formatted.append(record)\n",
    "    return pd.DataFrame(formatted)\n",
    "\n",
    "output_df = format_recommendations(recommendations)\n",
    "\n",
    "# Save results\n",
    "output_df.to_csv('Lookalike.csv', index=False)"
   ]
  },
  {
   "cell_type": "code",
   "execution_count": 11,
   "metadata": {},
   "outputs": [
    {
     "name": "stdout",
     "output_type": "stream",
     "text": [
      "CustomerID                          C0001                C0152  \\\n",
      "Region                      South America        South America   \n",
      "SignupDate            2022-07-10 00:00:00  2022-04-19 00:00:00   \n",
      "total_spend                       3354.52              3385.86   \n",
      "purchase_freq                           5                    5   \n",
      "avg_basket_size                       2.4                  2.0   \n",
      "last_purchase_date    2024-11-02 17:04:16  2024-10-21 06:20:03   \n",
      "category_Books                          1                    1   \n",
      "category_Clothing                       0                    0   \n",
      "category_Electronics                    3                    1   \n",
      "category_Home Decor                     1                    3   \n",
      "tenure                                933                 1015   \n",
      "\n",
      "CustomerID                          C0011                C0174  \n",
      "Region                      South America        South America  \n",
      "SignupDate            2022-12-12 00:00:00  2022-11-03 00:00:00  \n",
      "total_spend                        3730.0              2891.95  \n",
      "purchase_freq                           5                    5  \n",
      "avg_basket_size                       2.6                  2.4  \n",
      "last_purchase_date    2024-12-26 03:09:48  2024-12-12 13:59:40  \n",
      "category_Books                          3                    3  \n",
      "category_Clothing                       1                    0  \n",
      "category_Electronics                    1                    1  \n",
      "category_Home Decor                     0                    1  \n",
      "tenure                                778                  817  \n"
     ]
    }
   ],
   "source": [
    "# 8. Model Validation\n",
    "\n",
    "def validate_recommendations(cust_id, recommendations, top_n=3):\n",
    "    \"\"\"\n",
    "    Validate recommendations for sample customer\n",
    "    \n",
    "    \"\"\"\n",
    "    # Get target customer features\n",
    "    target = customer_features[customer_features.CustomerID == cust_id]\n",
    "    \n",
    "    # Get similar customers\n",
    "    similar_ids = [rec[0] for rec in recommendations[cust_id][:top_n]]\n",
    "    similars = customer_features[customer_features.CustomerID.isin(similar_ids)]\n",
    "    \n",
    "    # Compare features\n",
    "    comparison = pd.concat([target, similars]).reset_index(drop=True)\n",
    "    return comparison.set_index('CustomerID').T\n",
    "\n",
    "print(validate_recommendations('C0001', recommendations))"
   ]
  },
  {
   "cell_type": "code",
   "execution_count": null,
   "metadata": {},
   "outputs": [],
   "source": []
  },
  {
   "cell_type": "code",
   "execution_count": null,
   "metadata": {},
   "outputs": [],
   "source": []
  }
 ],
 "metadata": {
  "kernelspec": {
   "display_name": "Python 3",
   "language": "python",
   "name": "python3"
  },
  "language_info": {
   "codemirror_mode": {
    "name": "ipython",
    "version": 3
   },
   "file_extension": ".py",
   "mimetype": "text/x-python",
   "name": "python",
   "nbconvert_exporter": "python",
   "pygments_lexer": "ipython3",
   "version": "3.12.5"
  }
 },
 "nbformat": 4,
 "nbformat_minor": 2
}
